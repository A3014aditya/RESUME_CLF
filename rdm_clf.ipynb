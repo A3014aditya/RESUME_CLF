{
 "cells": [
  {
   "cell_type": "code",
   "execution_count": 1,
   "metadata": {},
   "outputs": [],
   "source": [
    "import pandas as pd\n",
    "import numpy as np\n",
    "import seaborn as sns\n",
    "import matplotlib.pyplot as plt"
   ]
  },
  {
   "cell_type": "code",
   "execution_count": 2,
   "metadata": {},
   "outputs": [
    {
     "name": "stderr",
     "output_type": "stream",
     "text": [
      "<>:1: SyntaxWarning: invalid escape sequence '\\R'\n",
      "<>:1: SyntaxWarning: invalid escape sequence '\\R'\n",
      "C:\\Users\\VICTUS\\AppData\\Local\\Temp\\ipykernel_12848\\2228144271.py:1: SyntaxWarning: invalid escape sequence '\\R'\n",
      "  df = pd.read_csv('Data\\Resume_data.csv')\n"
     ]
    }
   ],
   "source": [
    "df = pd.read_csv('Data\\Resume_data.csv')"
   ]
  },
  {
   "cell_type": "code",
   "execution_count": 3,
   "metadata": {},
   "outputs": [],
   "source": [
    "df = df.drop(columns=[\"Unnamed: 0\"], axis=1)"
   ]
  },
  {
   "cell_type": "code",
   "execution_count": 4,
   "metadata": {},
   "outputs": [],
   "source": [
    "df['label'] = df['label'].map({'React Developer':0,'workday':1,'Peoplesoft':2,'SQL Developer':3})"
   ]
  },
  {
   "cell_type": "code",
   "execution_count": 5,
   "metadata": {},
   "outputs": [
    {
     "data": {
      "text/html": [
       "<div>\n",
       "<style scoped>\n",
       "    .dataframe tbody tr th:only-of-type {\n",
       "        vertical-align: middle;\n",
       "    }\n",
       "\n",
       "    .dataframe tbody tr th {\n",
       "        vertical-align: top;\n",
       "    }\n",
       "\n",
       "    .dataframe thead th {\n",
       "        text-align: right;\n",
       "    }\n",
       "</style>\n",
       "<table border=\"1\" class=\"dataframe\">\n",
       "  <thead>\n",
       "    <tr style=\"text-align: right;\">\n",
       "      <th></th>\n",
       "      <th>Text</th>\n",
       "      <th>label</th>\n",
       "    </tr>\n",
       "  </thead>\n",
       "  <tbody>\n",
       "    <tr>\n",
       "      <th>0</th>\n",
       "      <td>Anubhav Kumar Singh\\t\\t\\n\\n  To work in a gl...</td>\n",
       "      <td>2</td>\n",
       "    </tr>\n",
       "    <tr>\n",
       "      <th>1</th>\n",
       "      <td>Anubhav Kumar Singh\\t\\t\\n\\n  To work in a gl...</td>\n",
       "      <td>2</td>\n",
       "    </tr>\n",
       "    <tr>\n",
       "      <th>2</th>\n",
       "      <td>Anubhav Kumar Singh\\t\\t\\n\\n  To work in a gl...</td>\n",
       "      <td>2</td>\n",
       "    </tr>\n",
       "    <tr>\n",
       "      <th>3</th>\n",
       "      <td>Murali\\n\\nExperience Summary \\n\\nI have 6 year...</td>\n",
       "      <td>2</td>\n",
       "    </tr>\n",
       "    <tr>\n",
       "      <th>4</th>\n",
       "      <td>Murali\\n\\nExperience Summary \\n\\nI have 6 year...</td>\n",
       "      <td>2</td>\n",
       "    </tr>\n",
       "    <tr>\n",
       "      <th>...</th>\n",
       "      <td>...</td>\n",
       "      <td>...</td>\n",
       "    </tr>\n",
       "    <tr>\n",
       "      <th>75</th>\n",
       "      <td>Ramesh A\\t\\t\\t\\t\\t\\t\\t\\t\\t\\t\\t\\t\\t\\t\\t\\t\\t\\t\\t...</td>\n",
       "      <td>1</td>\n",
       "    </tr>\n",
       "    <tr>\n",
       "      <th>76</th>\n",
       "      <td>Seeking suitable positions in Workday HCM  as ...</td>\n",
       "      <td>1</td>\n",
       "    </tr>\n",
       "    <tr>\n",
       "      <th>77</th>\n",
       "      <td>\\nWORKDAY | HCM | FCM\\nName \\t\\t: Kumar S.S\\nR...</td>\n",
       "      <td>1</td>\n",
       "    </tr>\n",
       "    <tr>\n",
       "      <th>78</th>\n",
       "      <td>\\nWORKDAY | HCM | FCM\\nName \\t\\t: Kumar S.S\\nR...</td>\n",
       "      <td>1</td>\n",
       "    </tr>\n",
       "    <tr>\n",
       "      <th>79</th>\n",
       "      <td>...</td>\n",
       "      <td>1</td>\n",
       "    </tr>\n",
       "  </tbody>\n",
       "</table>\n",
       "<p>80 rows × 2 columns</p>\n",
       "</div>"
      ],
      "text/plain": [
       "                                                 Text  label\n",
       "0     Anubhav Kumar Singh\\t\\t\\n\\n  To work in a gl...      2\n",
       "1     Anubhav Kumar Singh\\t\\t\\n\\n  To work in a gl...      2\n",
       "2     Anubhav Kumar Singh\\t\\t\\n\\n  To work in a gl...      2\n",
       "3   Murali\\n\\nExperience Summary \\n\\nI have 6 year...      2\n",
       "4   Murali\\n\\nExperience Summary \\n\\nI have 6 year...      2\n",
       "..                                                ...    ...\n",
       "75  Ramesh A\\t\\t\\t\\t\\t\\t\\t\\t\\t\\t\\t\\t\\t\\t\\t\\t\\t\\t\\t...      1\n",
       "76  Seeking suitable positions in Workday HCM  as ...      1\n",
       "77  \\nWORKDAY | HCM | FCM\\nName \\t\\t: Kumar S.S\\nR...      1\n",
       "78  \\nWORKDAY | HCM | FCM\\nName \\t\\t: Kumar S.S\\nR...      1\n",
       "79                                                ...      1\n",
       "\n",
       "[80 rows x 2 columns]"
      ]
     },
     "execution_count": 5,
     "metadata": {},
     "output_type": "execute_result"
    }
   ],
   "source": [
    "df"
   ]
  },
  {
   "cell_type": "code",
   "execution_count": 6,
   "metadata": {},
   "outputs": [
    {
     "data": {
      "text/plain": [
       "'ANIL KUMAR MADDUKURI  \\t\\t\\nSQL & MSBI Developer   \\n\\n\\t\\n\\nSummary\\n\\n2.4 years of experience in MS SQL Server (SSMS) and creating SSIS packages, SSRS Reports by using Microsoft Business Intelligence (MSBI) tools.\\nExpertise in various types of Joins and Sub Queries for writing complex queries involving multiple tables.\\nHandled data manipulation and data consistency by creating Views, Triggers, and Synonyms.\\nHands on experience in creation, optimization and debugging Stored Procedure and Functions.\\nFamiliar in writing queries using CTE, Temporary Tables and Table Variables.\\nGood experience in using Set Operators like Union, Union All, Except and Intersect to assist required data.\\nExperience in manipulate the data from multiple table and report to the client using Aggregate Functions, Windows Functions and String Functions.\\nWorked extensively on Data Extraction, Transformation and Loading (ETL) process in SQL Server Integration Services.\\nUsed containers such as for each loop container and sequence container to load the data from multiple source file to Database tables.\\nExpertise in using tasks like  Data flow Task, Execute SQL task ,Control Flow task Execute package task, Execute Process task, Bulk insert Task,  Sends Mail task and FTP Task and Script task at the control flow level .\\nExperience in using Data conversion,OLEDB command, Row count, Union All, Derived Column, Merge, Merge Join, Fuzzy lookup, Conditional Split and various other Transformation to manipulate data in SSIS package at the Data Flow Level for moving typical data from source to destination.\\nImplemented SSIS Loggings, check-points Break points and package configurations source system to another source system and ETL operations.\\nGood experience in developing Table Reports, Sub Reports, Matrix Reports, Drill down Reports, Drill through Reports using SQL Server Reporting Services.\\nInvolved in Linked reports, Cache reports, and Snapshot reports in report manager level.\\nExpertise in performing backup and restore the database.\\nCreated Indexes like Clustered Index and Non-Clustered Index to improve the performance.\\n\\nTechnical Skills\\nLanguages\\t           :  SQL, T-SQL\\nRDBMS\\t           :  SQL Server 2016/2012/2008 \\nETL Tools\\t           :  SQL Server Integration Services (SSIS)\\nReporting Tools         :  SQL Server Reporting Tools (SSRS)\\n\\nProfessional Experience\\nCurrently working as Software Engineer in Imagine Technology\\xa0and Services Pvt. Ltd \\n       Since 2019 to till date.\\nProject Experience\\nProject\\t\\t\\t:  Health Insurance\\nClient\\t\\t\\t:  Aetna, USA\\nEnvironment\\t\\t:  MS SQL SERVER 2016, SSIS, SSRS, Visual Studio 2015 \\nDuration\\t\\t:  April 2019 to Till Date\\n\\nDescription: \\nThis project is developed for Aetna Insurance. This is an American managed health care company sells traditional and consumer directed health care insurance and related services, Such as medical, dental, long-term care, and disability plans, primarily through employer-paid (fully or partly) insurance and benefit programs. The main goal of this project Implementing Customer Information into Database and Developing mechanism to revert data from database. \\nResponsibilities: \\n\\nCreate/update indexes, views, Stored Procedures, user defined functions, common table expressions (CTEs) and Triggers. \\nDevelop SSIS Packages by extracting data from diversified sources like Excel, CSV, flat file, Text and load into staging area.\\nUse transformations like Aggregate, Conditional Split, Derived Columns, Row Count, Merge and Merge Join, Multicast, Slowly Changing Dimension to manipulate data in data flow level\\nImplement event handlers for the packages, maintain log information and provide checkpoints in SSIS level. \\nDesign packages in control flow levels based on tasks like Data Flow Task, Execute SQL Task, FTP tasks and used For Each Loop Container, Sequential Container.\\nGenerate reports in the form of Matrix, Table by using SSRS from SQL Server Database and included various reporting features such as drilldown, drill through, sub reports. \\nInvolved in setting up SQL Server Agent Jobs for periodic Backups with backup devices, database maintenance plans and recovery.\\nMaintained / managed database agent jobs, check for failures and resolve failure issues.\\nUsed SQL Profiler and query tuning Wizard to troubleshoot problems and queries.\\n\\nEducation\\nB.Tech - Velagapudi siddhartha engineering college,Vijayawada\\n'"
      ]
     },
     "execution_count": 6,
     "metadata": {},
     "output_type": "execute_result"
    }
   ],
   "source": [
    "df['Text'][45]"
   ]
  },
  {
   "cell_type": "markdown",
   "metadata": {},
   "source": [
    "## Data Preprocessing"
   ]
  },
  {
   "cell_type": "code",
   "execution_count": 7,
   "metadata": {},
   "outputs": [
    {
     "name": "stderr",
     "output_type": "stream",
     "text": [
      "[nltk_data] Downloading package stopwords to\n",
      "[nltk_data]     C:\\Users\\VICTUS\\AppData\\Roaming\\nltk_data...\n",
      "[nltk_data]   Package stopwords is already up-to-date!\n",
      "[nltk_data] Downloading package wordnet to\n",
      "[nltk_data]     C:\\Users\\VICTUS\\AppData\\Roaming\\nltk_data...\n",
      "[nltk_data]   Package wordnet is already up-to-date!\n",
      "[nltk_data] Downloading package punkt to\n",
      "[nltk_data]     C:\\Users\\VICTUS\\AppData\\Roaming\\nltk_data...\n",
      "[nltk_data]   Package punkt is already up-to-date!\n",
      "[nltk_data] Downloading package punkt_tab to\n",
      "[nltk_data]     C:\\Users\\VICTUS\\AppData\\Roaming\\nltk_data...\n",
      "[nltk_data]   Package punkt_tab is already up-to-date!\n"
     ]
    },
    {
     "data": {
      "text/plain": [
       "True"
      ]
     },
     "execution_count": 7,
     "metadata": {},
     "output_type": "execute_result"
    }
   ],
   "source": [
    "import re\n",
    "import nltk\n",
    "nltk.download('stopwords')\n",
    "nltk.download('wordnet')\n",
    "nltk.download('punkt')\n",
    "nltk.download('punkt_tab')"
   ]
  },
  {
   "cell_type": "code",
   "execution_count": 8,
   "metadata": {},
   "outputs": [],
   "source": [
    "from nltk.corpus import stopwords\n",
    "from nltk.stem import WordNetLemmatizer\n",
    "from nltk.tokenize import word_tokenize"
   ]
  },
  {
   "cell_type": "code",
   "execution_count": 9,
   "metadata": {},
   "outputs": [],
   "source": [
    "Lemmatizer = WordNetLemmatizer()"
   ]
  },
  {
   "cell_type": "code",
   "execution_count": 10,
   "metadata": {},
   "outputs": [],
   "source": [
    "def preprocess_data(text):\n",
    "    cleantext = re.sub(r'http\\S+|www\\.\\S+', '',text)\n",
    "    cleantext = re.sub(r'@\\S+','',cleantext) \n",
    "    cleantext = re.sub(r'#\\S+','',cleantext)\n",
    "    cleantext = re.sub(r'[^\\w\\s]','',cleantext)\n",
    "    cleantext = cleantext.lower()\n",
    "    words = word_tokenize(cleantext)\n",
    "    words = [Lemmatizer.lemmatize(word,pos='v') for word in words if not word in stopwords.words('english')]\n",
    "    cleantext = ' '.join(words)\n",
    "    return cleantext "
   ]
  },
  {
   "cell_type": "code",
   "execution_count": 11,
   "metadata": {},
   "outputs": [
    {
     "name": "stderr",
     "output_type": "stream",
     "text": [
      "<>:3: SyntaxWarning: invalid escape sequence '\\s'\n",
      "<>:3: SyntaxWarning: invalid escape sequence '\\s'\n",
      "C:\\Users\\VICTUS\\AppData\\Local\\Temp\\ipykernel_12848\\35782914.py:3: SyntaxWarning: invalid escape sequence '\\s'\n",
      "  cleantext = re.sub('\\s+',' ',cleantext)\n"
     ]
    }
   ],
   "source": [
    "def preprocess_data2(text):\n",
    "  cleantext = re.sub('[^a-zA-Z]',' ',text)\n",
    "  cleantext = re.sub('\\s+',' ',cleantext)\n",
    "  return cleantext "
   ]
  },
  {
   "cell_type": "code",
   "execution_count": 12,
   "metadata": {},
   "outputs": [],
   "source": [
    "df = df.sample(frac=1,random_state=42)"
   ]
  },
  {
   "cell_type": "code",
   "execution_count": 13,
   "metadata": {},
   "outputs": [],
   "source": [
    "df.reset_index(inplace=True,drop=True)"
   ]
  },
  {
   "cell_type": "code",
   "execution_count": 14,
   "metadata": {},
   "outputs": [
    {
     "data": {
      "text/html": [
       "<div>\n",
       "<style scoped>\n",
       "    .dataframe tbody tr th:only-of-type {\n",
       "        vertical-align: middle;\n",
       "    }\n",
       "\n",
       "    .dataframe tbody tr th {\n",
       "        vertical-align: top;\n",
       "    }\n",
       "\n",
       "    .dataframe thead th {\n",
       "        text-align: right;\n",
       "    }\n",
       "</style>\n",
       "<table border=\"1\" class=\"dataframe\">\n",
       "  <thead>\n",
       "    <tr style=\"text-align: right;\">\n",
       "      <th></th>\n",
       "      <th>Text</th>\n",
       "      <th>label</th>\n",
       "    </tr>\n",
       "  </thead>\n",
       "  <tbody>\n",
       "    <tr>\n",
       "      <th>0</th>\n",
       "      <td>\\n\\nThirupathamma Balla\\n\\nSUMMARY:\\n\\n2.8 yea...</td>\n",
       "      <td>0</td>\n",
       "    </tr>\n",
       "    <tr>\n",
       "      <th>1</th>\n",
       "      <td>Anubhav Kumar Singh\\t\\t\\n\\n  To work in a gl...</td>\n",
       "      <td>2</td>\n",
       "    </tr>\n",
       "    <tr>\n",
       "      <th>2</th>\n",
       "      <td>Kanumuru Deepak Reddy\\n\\n\\n\\nCAREER OBJECTIVE:...</td>\n",
       "      <td>0</td>\n",
       "    </tr>\n",
       "    <tr>\n",
       "      <th>3</th>\n",
       "      <td>\\nUi-Developer/ React JS Developer \\nNAME: KRI...</td>\n",
       "      <td>0</td>\n",
       "    </tr>\n",
       "    <tr>\n",
       "      <th>4</th>\n",
       "      <td>Tanna Sujatha \\n\\n\\n\\nOBJECTIVE\\nSeeking a cha...</td>\n",
       "      <td>2</td>\n",
       "    </tr>\n",
       "    <tr>\n",
       "      <th>...</th>\n",
       "      <td>...</td>\n",
       "      <td>...</td>\n",
       "    </tr>\n",
       "    <tr>\n",
       "      <th>75</th>\n",
       "      <td>Name: Ravali P \\n\\n                           ...</td>\n",
       "      <td>0</td>\n",
       "    </tr>\n",
       "    <tr>\n",
       "      <th>76</th>\n",
       "      <td>\\t\\n\\n\\nName         : Gopi Krishna Reddy\\n\\t\\...</td>\n",
       "      <td>1</td>\n",
       "    </tr>\n",
       "    <tr>\n",
       "      <th>77</th>\n",
       "      <td>VENKATA SAIKRISHNA\\n Workday Consultant\\n\\n\\nP...</td>\n",
       "      <td>1</td>\n",
       "    </tr>\n",
       "    <tr>\n",
       "      <th>78</th>\n",
       "      <td>\\nHaving 4.6 years of experience in PeopleSoft...</td>\n",
       "      <td>2</td>\n",
       "    </tr>\n",
       "    <tr>\n",
       "      <th>79</th>\n",
       "      <td>SQL DEVELOPER\\nName: -   Bandi prem sai\\n\\n\\nW...</td>\n",
       "      <td>3</td>\n",
       "    </tr>\n",
       "  </tbody>\n",
       "</table>\n",
       "<p>80 rows × 2 columns</p>\n",
       "</div>"
      ],
      "text/plain": [
       "                                                 Text  label\n",
       "0   \\n\\nThirupathamma Balla\\n\\nSUMMARY:\\n\\n2.8 yea...      0\n",
       "1     Anubhav Kumar Singh\\t\\t\\n\\n  To work in a gl...      2\n",
       "2   Kanumuru Deepak Reddy\\n\\n\\n\\nCAREER OBJECTIVE:...      0\n",
       "3   \\nUi-Developer/ React JS Developer \\nNAME: KRI...      0\n",
       "4   Tanna Sujatha \\n\\n\\n\\nOBJECTIVE\\nSeeking a cha...      2\n",
       "..                                                ...    ...\n",
       "75  Name: Ravali P \\n\\n                           ...      0\n",
       "76  \\t\\n\\n\\nName         : Gopi Krishna Reddy\\n\\t\\...      1\n",
       "77  VENKATA SAIKRISHNA\\n Workday Consultant\\n\\n\\nP...      1\n",
       "78  \\nHaving 4.6 years of experience in PeopleSoft...      2\n",
       "79  SQL DEVELOPER\\nName: -   Bandi prem sai\\n\\n\\nW...      3\n",
       "\n",
       "[80 rows x 2 columns]"
      ]
     },
     "execution_count": 14,
     "metadata": {},
     "output_type": "execute_result"
    }
   ],
   "source": [
    "df"
   ]
  },
  {
   "cell_type": "code",
   "execution_count": 15,
   "metadata": {},
   "outputs": [],
   "source": [
    "df['Text'] = df['Text'].apply(preprocess_data)"
   ]
  },
  {
   "cell_type": "code",
   "execution_count": 16,
   "metadata": {},
   "outputs": [],
   "source": [
    "df['Text'] = df['Text'].apply(preprocess_data2)"
   ]
  },
  {
   "cell_type": "code",
   "execution_count": 17,
   "metadata": {},
   "outputs": [
    {
     "data": {
      "text/html": [
       "<div>\n",
       "<style scoped>\n",
       "    .dataframe tbody tr th:only-of-type {\n",
       "        vertical-align: middle;\n",
       "    }\n",
       "\n",
       "    .dataframe tbody tr th {\n",
       "        vertical-align: top;\n",
       "    }\n",
       "\n",
       "    .dataframe thead th {\n",
       "        text-align: right;\n",
       "    }\n",
       "</style>\n",
       "<table border=\"1\" class=\"dataframe\">\n",
       "  <thead>\n",
       "    <tr style=\"text-align: right;\">\n",
       "      <th></th>\n",
       "      <th>Text</th>\n",
       "      <th>label</th>\n",
       "    </tr>\n",
       "  </thead>\n",
       "  <tbody>\n",
       "    <tr>\n",
       "      <th>0</th>\n",
       "      <td>thirupathamma balla summary year experience re...</td>\n",
       "      <td>0</td>\n",
       "    </tr>\n",
       "    <tr>\n",
       "      <th>1</th>\n",
       "      <td>anubhav kumar singh work globally competitive ...</td>\n",
       "      <td>2</td>\n",
       "    </tr>\n",
       "    <tr>\n",
       "      <th>2</th>\n",
       "      <td>kanumuru deepak reddy career objective secure ...</td>\n",
       "      <td>0</td>\n",
       "    </tr>\n",
       "    <tr>\n",
       "      <th>3</th>\n",
       "      <td>uideveloper react js developer name krishna pr...</td>\n",
       "      <td>0</td>\n",
       "    </tr>\n",
       "    <tr>\n",
       "      <th>4</th>\n",
       "      <td>tanna sujatha objective seek challenge role ar...</td>\n",
       "      <td>2</td>\n",
       "    </tr>\n",
       "    <tr>\n",
       "      <th>...</th>\n",
       "      <td>...</td>\n",
       "      <td>...</td>\n",
       "    </tr>\n",
       "    <tr>\n",
       "      <th>75</th>\n",
       "      <td>name ravali p curriculum vitae specialization ...</td>\n",
       "      <td>0</td>\n",
       "    </tr>\n",
       "    <tr>\n",
       "      <th>76</th>\n",
       "      <td>name gopi krishna reddy professional summery w...</td>\n",
       "      <td>1</td>\n",
       "    </tr>\n",
       "    <tr>\n",
       "      <th>77</th>\n",
       "      <td>venkata saikrishna workday consultant profssio...</td>\n",
       "      <td>1</td>\n",
       "    </tr>\n",
       "    <tr>\n",
       "      <th>78</th>\n",
       "      <td>years experience peoplesoft application enhan...</td>\n",
       "      <td>2</td>\n",
       "    </tr>\n",
       "    <tr>\n",
       "      <th>79</th>\n",
       "      <td>sql developer name bandi prem sai will work ch...</td>\n",
       "      <td>3</td>\n",
       "    </tr>\n",
       "  </tbody>\n",
       "</table>\n",
       "<p>80 rows × 2 columns</p>\n",
       "</div>"
      ],
      "text/plain": [
       "                                                 Text  label\n",
       "0   thirupathamma balla summary year experience re...      0\n",
       "1   anubhav kumar singh work globally competitive ...      2\n",
       "2   kanumuru deepak reddy career objective secure ...      0\n",
       "3   uideveloper react js developer name krishna pr...      0\n",
       "4   tanna sujatha objective seek challenge role ar...      2\n",
       "..                                                ...    ...\n",
       "75  name ravali p curriculum vitae specialization ...      0\n",
       "76  name gopi krishna reddy professional summery w...      1\n",
       "77  venkata saikrishna workday consultant profssio...      1\n",
       "78   years experience peoplesoft application enhan...      2\n",
       "79  sql developer name bandi prem sai will work ch...      3\n",
       "\n",
       "[80 rows x 2 columns]"
      ]
     },
     "execution_count": 17,
     "metadata": {},
     "output_type": "execute_result"
    }
   ],
   "source": [
    "df"
   ]
  },
  {
   "cell_type": "markdown",
   "metadata": {},
   "source": [
    "## Word2vec"
   ]
  },
  {
   "cell_type": "code",
   "execution_count": 18,
   "metadata": {},
   "outputs": [],
   "source": [
    "import gensim"
   ]
  },
  {
   "cell_type": "code",
   "execution_count": 19,
   "metadata": {},
   "outputs": [],
   "source": [
    "from gensim.models import Word2Vec, KeyedVectors\n",
    "from nltk import sent_tokenize\n",
    "from gensim.utils import simple_preprocess"
   ]
  },
  {
   "cell_type": "code",
   "execution_count": 20,
   "metadata": {},
   "outputs": [],
   "source": [
    "words = []\n",
    "for sent in df['Text']:\n",
    "    sent_token = sent_tokenize(sent)\n",
    "    for sent in sent_token:\n",
    "        words.append(simple_preprocess(sent))"
   ]
  },
  {
   "cell_type": "code",
   "execution_count": 21,
   "metadata": {},
   "outputs": [],
   "source": [
    "model = gensim.models.Word2Vec(words)"
   ]
  },
  {
   "cell_type": "code",
   "execution_count": 22,
   "metadata": {},
   "outputs": [
    {
     "data": {
      "text/plain": [
       "<gensim.models.word2vec.Word2Vec at 0x1f89b4dc9e0>"
      ]
     },
     "execution_count": 22,
     "metadata": {},
     "output_type": "execute_result"
    }
   ],
   "source": [
    "model"
   ]
  },
  {
   "cell_type": "code",
   "execution_count": 23,
   "metadata": {},
   "outputs": [
    {
     "data": {
      "text/plain": [
       "5"
      ]
     },
     "execution_count": 23,
     "metadata": {},
     "output_type": "execute_result"
    }
   ],
   "source": [
    "model.epochs"
   ]
  },
  {
   "cell_type": "code",
   "execution_count": 24,
   "metadata": {},
   "outputs": [
    {
     "data": {
      "text/plain": [
       "1003"
      ]
     },
     "execution_count": 24,
     "metadata": {},
     "output_type": "execute_result"
    }
   ],
   "source": [
    "len(model.wv.index_to_key)"
   ]
  },
  {
   "cell_type": "code",
   "execution_count": 25,
   "metadata": {},
   "outputs": [
    {
     "data": {
      "text/plain": [
       "array([-0.18943603,  0.12276756,  0.03376865, -0.08560538,  0.09743951,\n",
       "       -0.64581805,  0.31919596,  0.7892001 , -0.38569295, -0.01873931,\n",
       "       -0.13079385, -0.47252506, -0.07795261,  0.13898104, -0.04114332,\n",
       "       -0.1803209 , -0.05349733, -0.5036894 , -0.08942812, -0.68785214,\n",
       "        0.2223233 ,  0.07438976,  0.15867603, -0.09446149, -0.1607433 ,\n",
       "       -0.05513481, -0.09001653, -0.22372623, -0.32514253, -0.15786059,\n",
       "        0.51479226,  0.14396761,  0.22932464, -0.11261701, -0.10403591,\n",
       "        0.4484912 , -0.00893686, -0.40809384, -0.25989357, -0.5797798 ,\n",
       "        0.02991682, -0.310724  , -0.18355046,  0.03624389,  0.44011757,\n",
       "       -0.06848904, -0.2618269 ,  0.12950519,  0.17973042,  0.22995466,\n",
       "        0.15519176, -0.28858104, -0.0297774 , -0.05531019, -0.11452834,\n",
       "        0.23297267,  0.08153296, -0.2028669 , -0.37399364,  0.04587751,\n",
       "        0.10442924,  0.17923209, -0.00568288, -0.20600441, -0.48483709,\n",
       "        0.15131673,  0.42965636,  0.5017692 , -0.47521508,  0.5058354 ,\n",
       "       -0.17743993,  0.09546981,  0.21895619, -0.04614919,  0.2954161 ,\n",
       "        0.34068918, -0.22637916, -0.1638439 , -0.27526313,  0.23746572,\n",
       "       -0.16680606, -0.00575127, -0.34849226,  0.60724366, -0.01754147,\n",
       "       -0.0023197 ,  0.12450963,  0.43677983,  0.3171672 ,  0.07677883,\n",
       "        0.5268484 ,  0.2515894 , -0.10011234,  0.06165085,  0.6330961 ,\n",
       "        0.29579797,  0.16153438, -0.42657626,  0.16758427, -0.08671676],\n",
       "      dtype=float32)"
      ]
     },
     "execution_count": 25,
     "metadata": {},
     "output_type": "execute_result"
    }
   ],
   "source": [
    "model.wv['workday']"
   ]
  },
  {
   "cell_type": "markdown",
   "metadata": {},
   "source": [
    "## AVG_Word2Vec"
   ]
  },
  {
   "cell_type": "code",
   "execution_count": 26,
   "metadata": {},
   "outputs": [],
   "source": [
    "def avg_word_2_vec(doc):\n",
    "  return np.mean([model.wv[word] for word in doc.split() if word in model.wv.index_to_key],axis=0)"
   ]
  },
  {
   "cell_type": "code",
   "execution_count": 27,
   "metadata": {},
   "outputs": [],
   "source": [
    "from sklearn.model_selection import train_test_split"
   ]
  },
  {
   "cell_type": "code",
   "execution_count": 28,
   "metadata": {},
   "outputs": [],
   "source": [
    "Train_df,Test_df = train_test_split(df,test_size=0.2,random_state=42)"
   ]
  },
  {
   "cell_type": "code",
   "execution_count": 29,
   "metadata": {},
   "outputs": [],
   "source": [
    "x_Train,y_Train = Train_df['Text'],Train_df['label']\n",
    "x_Test,y_Test = Test_df['Text'],Test_df['label']"
   ]
  },
  {
   "cell_type": "code",
   "execution_count": 30,
   "metadata": {},
   "outputs": [],
   "source": [
    "x_Train_Final = []\n",
    "for sent in x_Train:\n",
    "  x_Train_Final.append(avg_word_2_vec(sent))"
   ]
  },
  {
   "cell_type": "code",
   "execution_count": 31,
   "metadata": {},
   "outputs": [
    {
     "data": {
      "text/plain": [
       "64"
      ]
     },
     "execution_count": 31,
     "metadata": {},
     "output_type": "execute_result"
    }
   ],
   "source": [
    "len(x_Train_Final)"
   ]
  },
  {
   "cell_type": "code",
   "execution_count": 32,
   "metadata": {},
   "outputs": [],
   "source": [
    "x_Test_Final = []\n",
    "for sent in x_Test:\n",
    "  x_Test_Final.append(avg_word_2_vec(sent))"
   ]
  },
  {
   "cell_type": "code",
   "execution_count": 33,
   "metadata": {},
   "outputs": [
    {
     "data": {
      "text/plain": [
       "16"
      ]
     },
     "execution_count": 33,
     "metadata": {},
     "output_type": "execute_result"
    }
   ],
   "source": [
    "len(x_Test_Final)"
   ]
  },
  {
   "cell_type": "markdown",
   "metadata": {},
   "source": [
    "## Model Building"
   ]
  },
  {
   "cell_type": "code",
   "execution_count": 34,
   "metadata": {},
   "outputs": [],
   "source": [
    "from sklearn.ensemble import RandomForestClassifier\n",
    "from sklearn.metrics import accuracy_score,classification_report,confusion_matrix"
   ]
  },
  {
   "cell_type": "code",
   "execution_count": 35,
   "metadata": {},
   "outputs": [],
   "source": [
    "rdm_clf = RandomForestClassifier(monotonic_cst=None)"
   ]
  },
  {
   "cell_type": "code",
   "execution_count": 36,
   "metadata": {},
   "outputs": [
    {
     "data": {
      "text/html": [
       "<style>#sk-container-id-1 {\n",
       "  /* Definition of color scheme common for light and dark mode */\n",
       "  --sklearn-color-text: #000;\n",
       "  --sklearn-color-text-muted: #666;\n",
       "  --sklearn-color-line: gray;\n",
       "  /* Definition of color scheme for unfitted estimators */\n",
       "  --sklearn-color-unfitted-level-0: #fff5e6;\n",
       "  --sklearn-color-unfitted-level-1: #f6e4d2;\n",
       "  --sklearn-color-unfitted-level-2: #ffe0b3;\n",
       "  --sklearn-color-unfitted-level-3: chocolate;\n",
       "  /* Definition of color scheme for fitted estimators */\n",
       "  --sklearn-color-fitted-level-0: #f0f8ff;\n",
       "  --sklearn-color-fitted-level-1: #d4ebff;\n",
       "  --sklearn-color-fitted-level-2: #b3dbfd;\n",
       "  --sklearn-color-fitted-level-3: cornflowerblue;\n",
       "\n",
       "  /* Specific color for light theme */\n",
       "  --sklearn-color-text-on-default-background: var(--sg-text-color, var(--theme-code-foreground, var(--jp-content-font-color1, black)));\n",
       "  --sklearn-color-background: var(--sg-background-color, var(--theme-background, var(--jp-layout-color0, white)));\n",
       "  --sklearn-color-border-box: var(--sg-text-color, var(--theme-code-foreground, var(--jp-content-font-color1, black)));\n",
       "  --sklearn-color-icon: #696969;\n",
       "\n",
       "  @media (prefers-color-scheme: dark) {\n",
       "    /* Redefinition of color scheme for dark theme */\n",
       "    --sklearn-color-text-on-default-background: var(--sg-text-color, var(--theme-code-foreground, var(--jp-content-font-color1, white)));\n",
       "    --sklearn-color-background: var(--sg-background-color, var(--theme-background, var(--jp-layout-color0, #111)));\n",
       "    --sklearn-color-border-box: var(--sg-text-color, var(--theme-code-foreground, var(--jp-content-font-color1, white)));\n",
       "    --sklearn-color-icon: #878787;\n",
       "  }\n",
       "}\n",
       "\n",
       "#sk-container-id-1 {\n",
       "  color: var(--sklearn-color-text);\n",
       "}\n",
       "\n",
       "#sk-container-id-1 pre {\n",
       "  padding: 0;\n",
       "}\n",
       "\n",
       "#sk-container-id-1 input.sk-hidden--visually {\n",
       "  border: 0;\n",
       "  clip: rect(1px 1px 1px 1px);\n",
       "  clip: rect(1px, 1px, 1px, 1px);\n",
       "  height: 1px;\n",
       "  margin: -1px;\n",
       "  overflow: hidden;\n",
       "  padding: 0;\n",
       "  position: absolute;\n",
       "  width: 1px;\n",
       "}\n",
       "\n",
       "#sk-container-id-1 div.sk-dashed-wrapped {\n",
       "  border: 1px dashed var(--sklearn-color-line);\n",
       "  margin: 0 0.4em 0.5em 0.4em;\n",
       "  box-sizing: border-box;\n",
       "  padding-bottom: 0.4em;\n",
       "  background-color: var(--sklearn-color-background);\n",
       "}\n",
       "\n",
       "#sk-container-id-1 div.sk-container {\n",
       "  /* jupyter's `normalize.less` sets `[hidden] { display: none; }`\n",
       "     but bootstrap.min.css set `[hidden] { display: none !important; }`\n",
       "     so we also need the `!important` here to be able to override the\n",
       "     default hidden behavior on the sphinx rendered scikit-learn.org.\n",
       "     See: https://github.com/scikit-learn/scikit-learn/issues/21755 */\n",
       "  display: inline-block !important;\n",
       "  position: relative;\n",
       "}\n",
       "\n",
       "#sk-container-id-1 div.sk-text-repr-fallback {\n",
       "  display: none;\n",
       "}\n",
       "\n",
       "div.sk-parallel-item,\n",
       "div.sk-serial,\n",
       "div.sk-item {\n",
       "  /* draw centered vertical line to link estimators */\n",
       "  background-image: linear-gradient(var(--sklearn-color-text-on-default-background), var(--sklearn-color-text-on-default-background));\n",
       "  background-size: 2px 100%;\n",
       "  background-repeat: no-repeat;\n",
       "  background-position: center center;\n",
       "}\n",
       "\n",
       "/* Parallel-specific style estimator block */\n",
       "\n",
       "#sk-container-id-1 div.sk-parallel-item::after {\n",
       "  content: \"\";\n",
       "  width: 100%;\n",
       "  border-bottom: 2px solid var(--sklearn-color-text-on-default-background);\n",
       "  flex-grow: 1;\n",
       "}\n",
       "\n",
       "#sk-container-id-1 div.sk-parallel {\n",
       "  display: flex;\n",
       "  align-items: stretch;\n",
       "  justify-content: center;\n",
       "  background-color: var(--sklearn-color-background);\n",
       "  position: relative;\n",
       "}\n",
       "\n",
       "#sk-container-id-1 div.sk-parallel-item {\n",
       "  display: flex;\n",
       "  flex-direction: column;\n",
       "}\n",
       "\n",
       "#sk-container-id-1 div.sk-parallel-item:first-child::after {\n",
       "  align-self: flex-end;\n",
       "  width: 50%;\n",
       "}\n",
       "\n",
       "#sk-container-id-1 div.sk-parallel-item:last-child::after {\n",
       "  align-self: flex-start;\n",
       "  width: 50%;\n",
       "}\n",
       "\n",
       "#sk-container-id-1 div.sk-parallel-item:only-child::after {\n",
       "  width: 0;\n",
       "}\n",
       "\n",
       "/* Serial-specific style estimator block */\n",
       "\n",
       "#sk-container-id-1 div.sk-serial {\n",
       "  display: flex;\n",
       "  flex-direction: column;\n",
       "  align-items: center;\n",
       "  background-color: var(--sklearn-color-background);\n",
       "  padding-right: 1em;\n",
       "  padding-left: 1em;\n",
       "}\n",
       "\n",
       "\n",
       "/* Toggleable style: style used for estimator/Pipeline/ColumnTransformer box that is\n",
       "clickable and can be expanded/collapsed.\n",
       "- Pipeline and ColumnTransformer use this feature and define the default style\n",
       "- Estimators will overwrite some part of the style using the `sk-estimator` class\n",
       "*/\n",
       "\n",
       "/* Pipeline and ColumnTransformer style (default) */\n",
       "\n",
       "#sk-container-id-1 div.sk-toggleable {\n",
       "  /* Default theme specific background. It is overwritten whether we have a\n",
       "  specific estimator or a Pipeline/ColumnTransformer */\n",
       "  background-color: var(--sklearn-color-background);\n",
       "}\n",
       "\n",
       "/* Toggleable label */\n",
       "#sk-container-id-1 label.sk-toggleable__label {\n",
       "  cursor: pointer;\n",
       "  display: flex;\n",
       "  width: 100%;\n",
       "  margin-bottom: 0;\n",
       "  padding: 0.5em;\n",
       "  box-sizing: border-box;\n",
       "  text-align: center;\n",
       "  align-items: start;\n",
       "  justify-content: space-between;\n",
       "  gap: 0.5em;\n",
       "}\n",
       "\n",
       "#sk-container-id-1 label.sk-toggleable__label .caption {\n",
       "  font-size: 0.6rem;\n",
       "  font-weight: lighter;\n",
       "  color: var(--sklearn-color-text-muted);\n",
       "}\n",
       "\n",
       "#sk-container-id-1 label.sk-toggleable__label-arrow:before {\n",
       "  /* Arrow on the left of the label */\n",
       "  content: \"▸\";\n",
       "  float: left;\n",
       "  margin-right: 0.25em;\n",
       "  color: var(--sklearn-color-icon);\n",
       "}\n",
       "\n",
       "#sk-container-id-1 label.sk-toggleable__label-arrow:hover:before {\n",
       "  color: var(--sklearn-color-text);\n",
       "}\n",
       "\n",
       "/* Toggleable content - dropdown */\n",
       "\n",
       "#sk-container-id-1 div.sk-toggleable__content {\n",
       "  max-height: 0;\n",
       "  max-width: 0;\n",
       "  overflow: hidden;\n",
       "  text-align: left;\n",
       "  /* unfitted */\n",
       "  background-color: var(--sklearn-color-unfitted-level-0);\n",
       "}\n",
       "\n",
       "#sk-container-id-1 div.sk-toggleable__content.fitted {\n",
       "  /* fitted */\n",
       "  background-color: var(--sklearn-color-fitted-level-0);\n",
       "}\n",
       "\n",
       "#sk-container-id-1 div.sk-toggleable__content pre {\n",
       "  margin: 0.2em;\n",
       "  border-radius: 0.25em;\n",
       "  color: var(--sklearn-color-text);\n",
       "  /* unfitted */\n",
       "  background-color: var(--sklearn-color-unfitted-level-0);\n",
       "}\n",
       "\n",
       "#sk-container-id-1 div.sk-toggleable__content.fitted pre {\n",
       "  /* unfitted */\n",
       "  background-color: var(--sklearn-color-fitted-level-0);\n",
       "}\n",
       "\n",
       "#sk-container-id-1 input.sk-toggleable__control:checked~div.sk-toggleable__content {\n",
       "  /* Expand drop-down */\n",
       "  max-height: 200px;\n",
       "  max-width: 100%;\n",
       "  overflow: auto;\n",
       "}\n",
       "\n",
       "#sk-container-id-1 input.sk-toggleable__control:checked~label.sk-toggleable__label-arrow:before {\n",
       "  content: \"▾\";\n",
       "}\n",
       "\n",
       "/* Pipeline/ColumnTransformer-specific style */\n",
       "\n",
       "#sk-container-id-1 div.sk-label input.sk-toggleable__control:checked~label.sk-toggleable__label {\n",
       "  color: var(--sklearn-color-text);\n",
       "  background-color: var(--sklearn-color-unfitted-level-2);\n",
       "}\n",
       "\n",
       "#sk-container-id-1 div.sk-label.fitted input.sk-toggleable__control:checked~label.sk-toggleable__label {\n",
       "  background-color: var(--sklearn-color-fitted-level-2);\n",
       "}\n",
       "\n",
       "/* Estimator-specific style */\n",
       "\n",
       "/* Colorize estimator box */\n",
       "#sk-container-id-1 div.sk-estimator input.sk-toggleable__control:checked~label.sk-toggleable__label {\n",
       "  /* unfitted */\n",
       "  background-color: var(--sklearn-color-unfitted-level-2);\n",
       "}\n",
       "\n",
       "#sk-container-id-1 div.sk-estimator.fitted input.sk-toggleable__control:checked~label.sk-toggleable__label {\n",
       "  /* fitted */\n",
       "  background-color: var(--sklearn-color-fitted-level-2);\n",
       "}\n",
       "\n",
       "#sk-container-id-1 div.sk-label label.sk-toggleable__label,\n",
       "#sk-container-id-1 div.sk-label label {\n",
       "  /* The background is the default theme color */\n",
       "  color: var(--sklearn-color-text-on-default-background);\n",
       "}\n",
       "\n",
       "/* On hover, darken the color of the background */\n",
       "#sk-container-id-1 div.sk-label:hover label.sk-toggleable__label {\n",
       "  color: var(--sklearn-color-text);\n",
       "  background-color: var(--sklearn-color-unfitted-level-2);\n",
       "}\n",
       "\n",
       "/* Label box, darken color on hover, fitted */\n",
       "#sk-container-id-1 div.sk-label.fitted:hover label.sk-toggleable__label.fitted {\n",
       "  color: var(--sklearn-color-text);\n",
       "  background-color: var(--sklearn-color-fitted-level-2);\n",
       "}\n",
       "\n",
       "/* Estimator label */\n",
       "\n",
       "#sk-container-id-1 div.sk-label label {\n",
       "  font-family: monospace;\n",
       "  font-weight: bold;\n",
       "  display: inline-block;\n",
       "  line-height: 1.2em;\n",
       "}\n",
       "\n",
       "#sk-container-id-1 div.sk-label-container {\n",
       "  text-align: center;\n",
       "}\n",
       "\n",
       "/* Estimator-specific */\n",
       "#sk-container-id-1 div.sk-estimator {\n",
       "  font-family: monospace;\n",
       "  border: 1px dotted var(--sklearn-color-border-box);\n",
       "  border-radius: 0.25em;\n",
       "  box-sizing: border-box;\n",
       "  margin-bottom: 0.5em;\n",
       "  /* unfitted */\n",
       "  background-color: var(--sklearn-color-unfitted-level-0);\n",
       "}\n",
       "\n",
       "#sk-container-id-1 div.sk-estimator.fitted {\n",
       "  /* fitted */\n",
       "  background-color: var(--sklearn-color-fitted-level-0);\n",
       "}\n",
       "\n",
       "/* on hover */\n",
       "#sk-container-id-1 div.sk-estimator:hover {\n",
       "  /* unfitted */\n",
       "  background-color: var(--sklearn-color-unfitted-level-2);\n",
       "}\n",
       "\n",
       "#sk-container-id-1 div.sk-estimator.fitted:hover {\n",
       "  /* fitted */\n",
       "  background-color: var(--sklearn-color-fitted-level-2);\n",
       "}\n",
       "\n",
       "/* Specification for estimator info (e.g. \"i\" and \"?\") */\n",
       "\n",
       "/* Common style for \"i\" and \"?\" */\n",
       "\n",
       ".sk-estimator-doc-link,\n",
       "a:link.sk-estimator-doc-link,\n",
       "a:visited.sk-estimator-doc-link {\n",
       "  float: right;\n",
       "  font-size: smaller;\n",
       "  line-height: 1em;\n",
       "  font-family: monospace;\n",
       "  background-color: var(--sklearn-color-background);\n",
       "  border-radius: 1em;\n",
       "  height: 1em;\n",
       "  width: 1em;\n",
       "  text-decoration: none !important;\n",
       "  margin-left: 0.5em;\n",
       "  text-align: center;\n",
       "  /* unfitted */\n",
       "  border: var(--sklearn-color-unfitted-level-1) 1pt solid;\n",
       "  color: var(--sklearn-color-unfitted-level-1);\n",
       "}\n",
       "\n",
       ".sk-estimator-doc-link.fitted,\n",
       "a:link.sk-estimator-doc-link.fitted,\n",
       "a:visited.sk-estimator-doc-link.fitted {\n",
       "  /* fitted */\n",
       "  border: var(--sklearn-color-fitted-level-1) 1pt solid;\n",
       "  color: var(--sklearn-color-fitted-level-1);\n",
       "}\n",
       "\n",
       "/* On hover */\n",
       "div.sk-estimator:hover .sk-estimator-doc-link:hover,\n",
       ".sk-estimator-doc-link:hover,\n",
       "div.sk-label-container:hover .sk-estimator-doc-link:hover,\n",
       ".sk-estimator-doc-link:hover {\n",
       "  /* unfitted */\n",
       "  background-color: var(--sklearn-color-unfitted-level-3);\n",
       "  color: var(--sklearn-color-background);\n",
       "  text-decoration: none;\n",
       "}\n",
       "\n",
       "div.sk-estimator.fitted:hover .sk-estimator-doc-link.fitted:hover,\n",
       ".sk-estimator-doc-link.fitted:hover,\n",
       "div.sk-label-container:hover .sk-estimator-doc-link.fitted:hover,\n",
       ".sk-estimator-doc-link.fitted:hover {\n",
       "  /* fitted */\n",
       "  background-color: var(--sklearn-color-fitted-level-3);\n",
       "  color: var(--sklearn-color-background);\n",
       "  text-decoration: none;\n",
       "}\n",
       "\n",
       "/* Span, style for the box shown on hovering the info icon */\n",
       ".sk-estimator-doc-link span {\n",
       "  display: none;\n",
       "  z-index: 9999;\n",
       "  position: relative;\n",
       "  font-weight: normal;\n",
       "  right: .2ex;\n",
       "  padding: .5ex;\n",
       "  margin: .5ex;\n",
       "  width: min-content;\n",
       "  min-width: 20ex;\n",
       "  max-width: 50ex;\n",
       "  color: var(--sklearn-color-text);\n",
       "  box-shadow: 2pt 2pt 4pt #999;\n",
       "  /* unfitted */\n",
       "  background: var(--sklearn-color-unfitted-level-0);\n",
       "  border: .5pt solid var(--sklearn-color-unfitted-level-3);\n",
       "}\n",
       "\n",
       ".sk-estimator-doc-link.fitted span {\n",
       "  /* fitted */\n",
       "  background: var(--sklearn-color-fitted-level-0);\n",
       "  border: var(--sklearn-color-fitted-level-3);\n",
       "}\n",
       "\n",
       ".sk-estimator-doc-link:hover span {\n",
       "  display: block;\n",
       "}\n",
       "\n",
       "/* \"?\"-specific style due to the `<a>` HTML tag */\n",
       "\n",
       "#sk-container-id-1 a.estimator_doc_link {\n",
       "  float: right;\n",
       "  font-size: 1rem;\n",
       "  line-height: 1em;\n",
       "  font-family: monospace;\n",
       "  background-color: var(--sklearn-color-background);\n",
       "  border-radius: 1rem;\n",
       "  height: 1rem;\n",
       "  width: 1rem;\n",
       "  text-decoration: none;\n",
       "  /* unfitted */\n",
       "  color: var(--sklearn-color-unfitted-level-1);\n",
       "  border: var(--sklearn-color-unfitted-level-1) 1pt solid;\n",
       "}\n",
       "\n",
       "#sk-container-id-1 a.estimator_doc_link.fitted {\n",
       "  /* fitted */\n",
       "  border: var(--sklearn-color-fitted-level-1) 1pt solid;\n",
       "  color: var(--sklearn-color-fitted-level-1);\n",
       "}\n",
       "\n",
       "/* On hover */\n",
       "#sk-container-id-1 a.estimator_doc_link:hover {\n",
       "  /* unfitted */\n",
       "  background-color: var(--sklearn-color-unfitted-level-3);\n",
       "  color: var(--sklearn-color-background);\n",
       "  text-decoration: none;\n",
       "}\n",
       "\n",
       "#sk-container-id-1 a.estimator_doc_link.fitted:hover {\n",
       "  /* fitted */\n",
       "  background-color: var(--sklearn-color-fitted-level-3);\n",
       "}\n",
       "</style><div id=\"sk-container-id-1\" class=\"sk-top-container\"><div class=\"sk-text-repr-fallback\"><pre>RandomForestClassifier()</pre><b>In a Jupyter environment, please rerun this cell to show the HTML representation or trust the notebook. <br />On GitHub, the HTML representation is unable to render, please try loading this page with nbviewer.org.</b></div><div class=\"sk-container\" hidden><div class=\"sk-item\"><div class=\"sk-estimator fitted sk-toggleable\"><input class=\"sk-toggleable__control sk-hidden--visually\" id=\"sk-estimator-id-1\" type=\"checkbox\" checked><label for=\"sk-estimator-id-1\" class=\"sk-toggleable__label fitted sk-toggleable__label-arrow\"><div><div>RandomForestClassifier</div></div><div><a class=\"sk-estimator-doc-link fitted\" rel=\"noreferrer\" target=\"_blank\" href=\"https://scikit-learn.org/1.6/modules/generated/sklearn.ensemble.RandomForestClassifier.html\">?<span>Documentation for RandomForestClassifier</span></a><span class=\"sk-estimator-doc-link fitted\">i<span>Fitted</span></span></div></label><div class=\"sk-toggleable__content fitted\"><pre>RandomForestClassifier()</pre></div> </div></div></div></div>"
      ],
      "text/plain": [
       "RandomForestClassifier()"
      ]
     },
     "execution_count": 36,
     "metadata": {},
     "output_type": "execute_result"
    }
   ],
   "source": [
    "rdm_clf.fit(x_Train_Final,y_Train)"
   ]
  },
  {
   "cell_type": "code",
   "execution_count": 37,
   "metadata": {},
   "outputs": [],
   "source": [
    "train_pred = rdm_clf.predict(x_Train_Final)"
   ]
  },
  {
   "cell_type": "code",
   "execution_count": 38,
   "metadata": {},
   "outputs": [
    {
     "name": "stdout",
     "output_type": "stream",
     "text": [
      "Training_Accuracy:- 1.0\n"
     ]
    }
   ],
   "source": [
    "Train_Accu = accuracy_score(y_Train,train_pred)\n",
    "print('Training_Accuracy:-',Train_Accu)"
   ]
  },
  {
   "cell_type": "code",
   "execution_count": 39,
   "metadata": {},
   "outputs": [],
   "source": [
    "test_pred = rdm_clf.predict(x_Test_Final)"
   ]
  },
  {
   "cell_type": "code",
   "execution_count": 40,
   "metadata": {},
   "outputs": [
    {
     "name": "stdout",
     "output_type": "stream",
     "text": [
      "Testing_Accuracy:- 0.75\n"
     ]
    }
   ],
   "source": [
    "Test_Accu = accuracy_score(y_Test,test_pred)\n",
    "print('Testing_Accuracy:-',Test_Accu)"
   ]
  },
  {
   "cell_type": "code",
   "execution_count": 41,
   "metadata": {},
   "outputs": [
    {
     "name": "stdout",
     "output_type": "stream",
     "text": [
      "              precision    recall  f1-score   support\n",
      "\n",
      "           0       0.50      0.33      0.40         3\n",
      "           1       0.60      1.00      0.75         3\n",
      "           2       1.00      0.50      0.67         4\n",
      "           3       0.86      1.00      0.92         6\n",
      "\n",
      "    accuracy                           0.75        16\n",
      "   macro avg       0.74      0.71      0.68        16\n",
      "weighted avg       0.78      0.75      0.73        16\n",
      "\n"
     ]
    }
   ],
   "source": [
    "print(classification_report(y_Test, test_pred))"
   ]
  },
  {
   "cell_type": "markdown",
   "metadata": {},
   "source": [
    "## Hyperparameter Tunning using Optuna"
   ]
  },
  {
   "cell_type": "code",
   "execution_count": 49,
   "metadata": {},
   "outputs": [
    {
     "name": "stderr",
     "output_type": "stream",
     "text": [
      "C:\\Users\\VICTUS\\AppData\\Roaming\\Python\\Python312\\site-packages\\tqdm\\auto.py:21: TqdmWarning: IProgress not found. Please update jupyter and ipywidgets. See https://ipywidgets.readthedocs.io/en/stable/user_install.html\n",
      "  from .autonotebook import tqdm as notebook_tqdm\n"
     ]
    }
   ],
   "source": [
    "import optuna\n",
    "from sklearn.model_selection import cross_val_score\n",
    "import warnings\n",
    "warnings.filterwarnings('ignore')"
   ]
  },
  {
   "cell_type": "code",
   "execution_count": 50,
   "metadata": {},
   "outputs": [],
   "source": [
    "def objective(trial):\n",
    "    n_estimators = trial.suggest_int('n_estimators',50,250)\n",
    "    max_depth = trial.suggest_int('max_depth',3,25)\n",
    "    min_samples_split = trial.suggest_int('min_samples_split', 2, 20)\n",
    "    min_samples_leaf = trial.suggest_int('min_samples_leaf', 1, 20)\n",
    "    max_features = trial.suggest_categorical('max_features', ['sqrt', 'log2', None])\n",
    "\n",
    "    model = RandomForestClassifier(\n",
    "        n_estimators=n_estimators,\n",
    "        max_depth=max_depth,\n",
    "        min_samples_split=min_samples_split,\n",
    "        min_samples_leaf=min_samples_leaf,\n",
    "        max_features=max_features,\n",
    "        bootstrap=True,\n",
    "        oob_score=True,\n",
    "        random_state=42\n",
    "    )\n",
    "    scores = cross_val_score(model, x_Train_Final, y_Train, cv=5,scoring='accuracy').mean()\n",
    "\n",
    "    return scores"
   ]
  },
  {
   "cell_type": "code",
   "execution_count": 51,
   "metadata": {},
   "outputs": [
    {
     "name": "stderr",
     "output_type": "stream",
     "text": [
      "[I 2024-12-15 00:11:04,532] A new study created in memory with name: no-name-ed929f33-0aa6-4bf3-9780-fd21a439a4c3\n",
      "[I 2024-12-15 00:11:05,323] Trial 0 finished with value: 0.8448717948717949 and parameters: {'n_estimators': 56, 'max_depth': 22, 'min_samples_split': 6, 'min_samples_leaf': 8, 'max_features': 'log2'}. Best is trial 0 with value: 0.8448717948717949.\n",
      "[I 2024-12-15 00:11:07,224] Trial 1 finished with value: 0.6871794871794872 and parameters: {'n_estimators': 162, 'max_depth': 11, 'min_samples_split': 10, 'min_samples_leaf': 17, 'max_features': None}. Best is trial 0 with value: 0.8448717948717949.\n",
      "[I 2024-12-15 00:11:08,793] Trial 2 finished with value: 0.8448717948717949 and parameters: {'n_estimators': 116, 'max_depth': 11, 'min_samples_split': 19, 'min_samples_leaf': 12, 'max_features': None}. Best is trial 0 with value: 0.8448717948717949.\n",
      "[I 2024-12-15 00:11:09,779] Trial 3 finished with value: 0.953846153846154 and parameters: {'n_estimators': 83, 'max_depth': 15, 'min_samples_split': 8, 'min_samples_leaf': 5, 'max_features': 'sqrt'}. Best is trial 3 with value: 0.953846153846154.\n",
      "[I 2024-12-15 00:11:11,529] Trial 4 finished with value: 0.8923076923076924 and parameters: {'n_estimators': 164, 'max_depth': 22, 'min_samples_split': 15, 'min_samples_leaf': 4, 'max_features': 'sqrt'}. Best is trial 3 with value: 0.953846153846154.\n",
      "[I 2024-12-15 00:11:13,763] Trial 5 finished with value: 0.8141025641025641 and parameters: {'n_estimators': 236, 'max_depth': 17, 'min_samples_split': 18, 'min_samples_leaf': 7, 'max_features': 'log2'}. Best is trial 3 with value: 0.953846153846154.\n",
      "[I 2024-12-15 00:11:14,401] Trial 6 finished with value: 0.9384615384615385 and parameters: {'n_estimators': 68, 'max_depth': 3, 'min_samples_split': 9, 'min_samples_leaf': 3, 'max_features': 'log2'}. Best is trial 3 with value: 0.953846153846154.\n",
      "[I 2024-12-15 00:11:16,405] Trial 7 finished with value: 0.8435897435897436 and parameters: {'n_estimators': 227, 'max_depth': 4, 'min_samples_split': 2, 'min_samples_leaf': 13, 'max_features': 'log2'}. Best is trial 3 with value: 0.953846153846154.\n",
      "[I 2024-12-15 00:11:17,885] Trial 8 finished with value: 0.8435897435897436 and parameters: {'n_estimators': 168, 'max_depth': 15, 'min_samples_split': 20, 'min_samples_leaf': 15, 'max_features': 'log2'}. Best is trial 3 with value: 0.953846153846154.\n",
      "[I 2024-12-15 00:11:19,942] Trial 9 finished with value: 0.3435897435897436 and parameters: {'n_estimators': 233, 'max_depth': 5, 'min_samples_split': 9, 'min_samples_leaf': 19, 'max_features': None}. Best is trial 3 with value: 0.953846153846154.\n",
      "[I 2024-12-15 00:11:21,105] Trial 10 finished with value: 0.9384615384615385 and parameters: {'n_estimators': 116, 'max_depth': 25, 'min_samples_split': 14, 'min_samples_leaf': 1, 'max_features': 'sqrt'}. Best is trial 3 with value: 0.953846153846154.\n",
      "[I 2024-12-15 00:11:21,913] Trial 11 finished with value: 0.953846153846154 and parameters: {'n_estimators': 57, 'max_depth': 9, 'min_samples_split': 6, 'min_samples_leaf': 2, 'max_features': 'sqrt'}. Best is trial 3 with value: 0.953846153846154.\n",
      "[I 2024-12-15 00:11:23,128] Trial 12 finished with value: 0.953846153846154 and parameters: {'n_estimators': 91, 'max_depth': 9, 'min_samples_split': 5, 'min_samples_leaf': 6, 'max_features': 'sqrt'}. Best is trial 3 with value: 0.953846153846154.\n",
      "[I 2024-12-15 00:11:24,025] Trial 13 finished with value: 0.9384615384615385 and parameters: {'n_estimators': 89, 'max_depth': 17, 'min_samples_split': 6, 'min_samples_leaf': 1, 'max_features': 'sqrt'}. Best is trial 3 with value: 0.953846153846154.\n",
      "[I 2024-12-15 00:11:24,560] Trial 14 finished with value: 0.8448717948717949 and parameters: {'n_estimators': 51, 'max_depth': 8, 'min_samples_split': 3, 'min_samples_leaf': 9, 'max_features': 'sqrt'}. Best is trial 3 with value: 0.953846153846154.\n",
      "[I 2024-12-15 00:11:26,147] Trial 15 finished with value: 0.953846153846154 and parameters: {'n_estimators': 131, 'max_depth': 13, 'min_samples_split': 12, 'min_samples_leaf': 4, 'max_features': 'sqrt'}. Best is trial 3 with value: 0.953846153846154.\n",
      "[I 2024-12-15 00:11:27,125] Trial 16 finished with value: 0.953846153846154 and parameters: {'n_estimators': 82, 'max_depth': 7, 'min_samples_split': 7, 'min_samples_leaf': 5, 'max_features': 'sqrt'}. Best is trial 3 with value: 0.953846153846154.\n",
      "[I 2024-12-15 00:11:29,600] Trial 17 finished with value: 0.8448717948717949 and parameters: {'n_estimators': 198, 'max_depth': 18, 'min_samples_split': 4, 'min_samples_leaf': 10, 'max_features': 'sqrt'}. Best is trial 3 with value: 0.953846153846154.\n",
      "[I 2024-12-15 00:11:30,639] Trial 18 finished with value: 0.9692307692307693 and parameters: {'n_estimators': 109, 'max_depth': 12, 'min_samples_split': 8, 'min_samples_leaf': 2, 'max_features': 'sqrt'}. Best is trial 18 with value: 0.9692307692307693.\n",
      "[I 2024-12-15 00:11:31,707] Trial 19 finished with value: 0.953846153846154 and parameters: {'n_estimators': 115, 'max_depth': 14, 'min_samples_split': 12, 'min_samples_leaf': 6, 'max_features': 'sqrt'}. Best is trial 18 with value: 0.9692307692307693.\n",
      "[I 2024-12-15 00:11:33,370] Trial 20 finished with value: 0.953846153846154 and parameters: {'n_estimators': 137, 'max_depth': 20, 'min_samples_split': 8, 'min_samples_leaf': 3, 'max_features': None}. Best is trial 18 with value: 0.9692307692307693.\n",
      "[I 2024-12-15 00:11:34,177] Trial 21 finished with value: 0.9384615384615385 and parameters: {'n_estimators': 74, 'max_depth': 11, 'min_samples_split': 7, 'min_samples_leaf': 1, 'max_features': 'sqrt'}. Best is trial 18 with value: 0.9692307692307693.\n",
      "[I 2024-12-15 00:11:35,090] Trial 22 finished with value: 0.953846153846154 and parameters: {'n_estimators': 100, 'max_depth': 13, 'min_samples_split': 11, 'min_samples_leaf': 3, 'max_features': 'sqrt'}. Best is trial 18 with value: 0.9692307692307693.\n",
      "[I 2024-12-15 00:11:35,763] Trial 23 finished with value: 0.9384615384615385 and parameters: {'n_estimators': 65, 'max_depth': 6, 'min_samples_split': 4, 'min_samples_leaf': 2, 'max_features': 'sqrt'}. Best is trial 18 with value: 0.9692307692307693.\n",
      "[I 2024-12-15 00:11:36,806] Trial 24 finished with value: 0.953846153846154 and parameters: {'n_estimators': 103, 'max_depth': 10, 'min_samples_split': 8, 'min_samples_leaf': 5, 'max_features': 'sqrt'}. Best is trial 18 with value: 0.9692307692307693.\n",
      "[I 2024-12-15 00:11:37,538] Trial 25 finished with value: 0.8756410256410257 and parameters: {'n_estimators': 78, 'max_depth': 15, 'min_samples_split': 10, 'min_samples_leaf': 7, 'max_features': 'sqrt'}. Best is trial 18 with value: 0.9692307692307693.\n",
      "[I 2024-12-15 00:11:38,783] Trial 26 finished with value: 0.953846153846154 and parameters: {'n_estimators': 134, 'max_depth': 12, 'min_samples_split': 5, 'min_samples_leaf': 2, 'max_features': 'sqrt'}. Best is trial 18 with value: 0.9692307692307693.\n",
      "[I 2024-12-15 00:11:39,739] Trial 27 finished with value: 0.9384615384615385 and parameters: {'n_estimators': 102, 'max_depth': 9, 'min_samples_split': 14, 'min_samples_leaf': 5, 'max_features': 'sqrt'}. Best is trial 18 with value: 0.9692307692307693.\n",
      "[I 2024-12-15 00:11:40,319] Trial 28 finished with value: 0.8294871794871795 and parameters: {'n_estimators': 52, 'max_depth': 15, 'min_samples_split': 7, 'min_samples_leaf': 12, 'max_features': None}. Best is trial 18 with value: 0.9692307692307693.\n",
      "[I 2024-12-15 00:11:40,954] Trial 29 finished with value: 0.8448717948717949 and parameters: {'n_estimators': 64, 'max_depth': 19, 'min_samples_split': 6, 'min_samples_leaf': 8, 'max_features': 'sqrt'}. Best is trial 18 with value: 0.9692307692307693.\n",
      "[I 2024-12-15 00:11:42,699] Trial 30 finished with value: 0.8448717948717949 and parameters: {'n_estimators': 185, 'max_depth': 7, 'min_samples_split': 9, 'min_samples_leaf': 9, 'max_features': 'log2'}. Best is trial 18 with value: 0.9692307692307693.\n",
      "[I 2024-12-15 00:11:43,575] Trial 31 finished with value: 0.953846153846154 and parameters: {'n_estimators': 90, 'max_depth': 9, 'min_samples_split': 5, 'min_samples_leaf': 6, 'max_features': 'sqrt'}. Best is trial 18 with value: 0.9692307692307693.\n",
      "[I 2024-12-15 00:11:44,625] Trial 32 finished with value: 0.953846153846154 and parameters: {'n_estimators': 91, 'max_depth': 9, 'min_samples_split': 5, 'min_samples_leaf': 4, 'max_features': 'sqrt'}. Best is trial 18 with value: 0.9692307692307693.\n",
      "[I 2024-12-15 00:11:45,775] Trial 33 finished with value: 0.953846153846154 and parameters: {'n_estimators': 118, 'max_depth': 11, 'min_samples_split': 3, 'min_samples_leaf': 2, 'max_features': 'sqrt'}. Best is trial 18 with value: 0.9692307692307693.\n",
      "[I 2024-12-15 00:11:46,409] Trial 34 finished with value: 0.8756410256410257 and parameters: {'n_estimators': 61, 'max_depth': 13, 'min_samples_split': 7, 'min_samples_leaf': 7, 'max_features': 'sqrt'}. Best is trial 18 with value: 0.9692307692307693.\n",
      "[I 2024-12-15 00:11:47,421] Trial 35 finished with value: 0.953846153846154 and parameters: {'n_estimators': 78, 'max_depth': 10, 'min_samples_split': 10, 'min_samples_leaf': 4, 'max_features': None}. Best is trial 18 with value: 0.9692307692307693.\n",
      "[I 2024-12-15 00:11:48,502] Trial 36 finished with value: 0.953846153846154 and parameters: {'n_estimators': 106, 'max_depth': 16, 'min_samples_split': 8, 'min_samples_leaf': 6, 'max_features': 'sqrt'}. Best is trial 18 with value: 0.9692307692307693.\n",
      "[I 2024-12-15 00:11:49,943] Trial 37 finished with value: 0.9384615384615385 and parameters: {'n_estimators': 150, 'max_depth': 12, 'min_samples_split': 4, 'min_samples_leaf': 3, 'max_features': 'sqrt'}. Best is trial 18 with value: 0.9692307692307693.\n",
      "[I 2024-12-15 00:11:51,098] Trial 38 finished with value: 0.9384615384615385 and parameters: {'n_estimators': 124, 'max_depth': 7, 'min_samples_split': 6, 'min_samples_leaf': 2, 'max_features': 'log2'}. Best is trial 18 with value: 0.9692307692307693.\n",
      "[I 2024-12-15 00:11:52,041] Trial 39 finished with value: 0.8448717948717949 and parameters: {'n_estimators': 92, 'max_depth': 5, 'min_samples_split': 2, 'min_samples_leaf': 14, 'max_features': None}. Best is trial 18 with value: 0.9692307692307693.\n",
      "[I 2024-12-15 00:11:53,460] Trial 40 finished with value: 0.8448717948717949 and parameters: {'n_estimators': 145, 'max_depth': 11, 'min_samples_split': 11, 'min_samples_leaf': 11, 'max_features': 'log2'}. Best is trial 18 with value: 0.9692307692307693.\n",
      "[I 2024-12-15 00:11:55,199] Trial 41 finished with value: 0.953846153846154 and parameters: {'n_estimators': 127, 'max_depth': 13, 'min_samples_split': 12, 'min_samples_leaf': 4, 'max_features': 'sqrt'}. Best is trial 18 with value: 0.9692307692307693.\n",
      "[I 2024-12-15 00:11:56,271] Trial 42 finished with value: 0.953846153846154 and parameters: {'n_estimators': 111, 'max_depth': 12, 'min_samples_split': 13, 'min_samples_leaf': 4, 'max_features': 'sqrt'}. Best is trial 18 with value: 0.9692307692307693.\n",
      "[I 2024-12-15 00:11:56,956] Trial 43 finished with value: 0.9384615384615385 and parameters: {'n_estimators': 72, 'max_depth': 14, 'min_samples_split': 9, 'min_samples_leaf': 1, 'max_features': 'sqrt'}. Best is trial 18 with value: 0.9692307692307693.\n",
      "[I 2024-12-15 00:11:57,768] Trial 44 finished with value: 0.8756410256410257 and parameters: {'n_estimators': 83, 'max_depth': 10, 'min_samples_split': 17, 'min_samples_leaf': 5, 'max_features': 'sqrt'}. Best is trial 18 with value: 0.9692307692307693.\n",
      "[I 2024-12-15 00:11:59,409] Trial 45 finished with value: 0.8448717948717949 and parameters: {'n_estimators': 162, 'max_depth': 17, 'min_samples_split': 17, 'min_samples_leaf': 3, 'max_features': 'sqrt'}. Best is trial 18 with value: 0.9692307692307693.\n",
      "[I 2024-12-15 00:11:59,975] Trial 46 finished with value: 0.37692307692307697 and parameters: {'n_estimators': 56, 'max_depth': 8, 'min_samples_split': 12, 'min_samples_leaf': 18, 'max_features': 'sqrt'}. Best is trial 18 with value: 0.9692307692307693.\n",
      "[I 2024-12-15 00:12:01,145] Trial 47 finished with value: 0.8756410256410257 and parameters: {'n_estimators': 94, 'max_depth': 14, 'min_samples_split': 8, 'min_samples_leaf': 8, 'max_features': 'sqrt'}. Best is trial 18 with value: 0.9692307692307693.\n",
      "[I 2024-12-15 00:12:02,421] Trial 48 finished with value: 0.9384615384615385 and parameters: {'n_estimators': 126, 'max_depth': 16, 'min_samples_split': 11, 'min_samples_leaf': 6, 'max_features': 'log2'}. Best is trial 18 with value: 0.9692307692307693.\n",
      "[I 2024-12-15 00:12:03,844] Trial 49 finished with value: 0.9384615384615385 and parameters: {'n_estimators': 137, 'max_depth': 3, 'min_samples_split': 10, 'min_samples_leaf': 2, 'max_features': 'sqrt'}. Best is trial 18 with value: 0.9692307692307693.\n"
     ]
    }
   ],
   "source": [
    "study = optuna.create_study(direction='maximize')\n",
    "\n",
    "study.optimize(objective, n_trials=50)"
   ]
  },
  {
   "cell_type": "code",
   "execution_count": 45,
   "metadata": {},
   "outputs": [],
   "source": [
    "params = study.best_params"
   ]
  },
  {
   "cell_type": "code",
   "execution_count": 46,
   "metadata": {},
   "outputs": [
    {
     "data": {
      "text/plain": [
       "0.9692307692307693"
      ]
     },
     "execution_count": 46,
     "metadata": {},
     "output_type": "execute_result"
    }
   ],
   "source": [
    "study.best_trial.value"
   ]
  },
  {
   "cell_type": "code",
   "execution_count": 47,
   "metadata": {},
   "outputs": [],
   "source": [
    "final_model = RandomForestClassifier(**params)"
   ]
  },
  {
   "cell_type": "code",
   "execution_count": 48,
   "metadata": {},
   "outputs": [
    {
     "data": {
      "text/html": [
       "<style>#sk-container-id-2 {color: black;}#sk-container-id-2 pre{padding: 0;}#sk-container-id-2 div.sk-toggleable {background-color: white;}#sk-container-id-2 label.sk-toggleable__label {cursor: pointer;display: block;width: 100%;margin-bottom: 0;padding: 0.3em;box-sizing: border-box;text-align: center;}#sk-container-id-2 label.sk-toggleable__label-arrow:before {content: \"▸\";float: left;margin-right: 0.25em;color: #696969;}#sk-container-id-2 label.sk-toggleable__label-arrow:hover:before {color: black;}#sk-container-id-2 div.sk-estimator:hover label.sk-toggleable__label-arrow:before {color: black;}#sk-container-id-2 div.sk-toggleable__content {max-height: 0;max-width: 0;overflow: hidden;text-align: left;background-color: #f0f8ff;}#sk-container-id-2 div.sk-toggleable__content pre {margin: 0.2em;color: black;border-radius: 0.25em;background-color: #f0f8ff;}#sk-container-id-2 input.sk-toggleable__control:checked~div.sk-toggleable__content {max-height: 200px;max-width: 100%;overflow: auto;}#sk-container-id-2 input.sk-toggleable__control:checked~label.sk-toggleable__label-arrow:before {content: \"▾\";}#sk-container-id-2 div.sk-estimator input.sk-toggleable__control:checked~label.sk-toggleable__label {background-color: #d4ebff;}#sk-container-id-2 div.sk-label input.sk-toggleable__control:checked~label.sk-toggleable__label {background-color: #d4ebff;}#sk-container-id-2 input.sk-hidden--visually {border: 0;clip: rect(1px 1px 1px 1px);clip: rect(1px, 1px, 1px, 1px);height: 1px;margin: -1px;overflow: hidden;padding: 0;position: absolute;width: 1px;}#sk-container-id-2 div.sk-estimator {font-family: monospace;background-color: #f0f8ff;border: 1px dotted black;border-radius: 0.25em;box-sizing: border-box;margin-bottom: 0.5em;}#sk-container-id-2 div.sk-estimator:hover {background-color: #d4ebff;}#sk-container-id-2 div.sk-parallel-item::after {content: \"\";width: 100%;border-bottom: 1px solid gray;flex-grow: 1;}#sk-container-id-2 div.sk-label:hover label.sk-toggleable__label {background-color: #d4ebff;}#sk-container-id-2 div.sk-serial::before {content: \"\";position: absolute;border-left: 1px solid gray;box-sizing: border-box;top: 0;bottom: 0;left: 50%;z-index: 0;}#sk-container-id-2 div.sk-serial {display: flex;flex-direction: column;align-items: center;background-color: white;padding-right: 0.2em;padding-left: 0.2em;position: relative;}#sk-container-id-2 div.sk-item {position: relative;z-index: 1;}#sk-container-id-2 div.sk-parallel {display: flex;align-items: stretch;justify-content: center;background-color: white;position: relative;}#sk-container-id-2 div.sk-item::before, #sk-container-id-2 div.sk-parallel-item::before {content: \"\";position: absolute;border-left: 1px solid gray;box-sizing: border-box;top: 0;bottom: 0;left: 50%;z-index: -1;}#sk-container-id-2 div.sk-parallel-item {display: flex;flex-direction: column;z-index: 1;position: relative;background-color: white;}#sk-container-id-2 div.sk-parallel-item:first-child::after {align-self: flex-end;width: 50%;}#sk-container-id-2 div.sk-parallel-item:last-child::after {align-self: flex-start;width: 50%;}#sk-container-id-2 div.sk-parallel-item:only-child::after {width: 0;}#sk-container-id-2 div.sk-dashed-wrapped {border: 1px dashed gray;margin: 0 0.4em 0.5em 0.4em;box-sizing: border-box;padding-bottom: 0.4em;background-color: white;}#sk-container-id-2 div.sk-label label {font-family: monospace;font-weight: bold;display: inline-block;line-height: 1.2em;}#sk-container-id-2 div.sk-label-container {text-align: center;}#sk-container-id-2 div.sk-container {/* jupyter's `normalize.less` sets `[hidden] { display: none; }` but bootstrap.min.css set `[hidden] { display: none !important; }` so we also need the `!important` here to be able to override the default hidden behavior on the sphinx rendered scikit-learn.org. See: https://github.com/scikit-learn/scikit-learn/issues/21755 */display: inline-block !important;position: relative;}#sk-container-id-2 div.sk-text-repr-fallback {display: none;}</style><div id=\"sk-container-id-2\" class=\"sk-top-container\"><div class=\"sk-text-repr-fallback\"><pre>RandomForestClassifier(max_depth=19, max_features=None, min_samples_leaf=3,\n",
       "                       min_samples_split=12, n_estimators=142)</pre><b>In a Jupyter environment, please rerun this cell to show the HTML representation or trust the notebook. <br />On GitHub, the HTML representation is unable to render, please try loading this page with nbviewer.org.</b></div><div class=\"sk-container\" hidden><div class=\"sk-item\"><div class=\"sk-estimator sk-toggleable\"><input class=\"sk-toggleable__control sk-hidden--visually\" id=\"sk-estimator-id-2\" type=\"checkbox\" checked><label for=\"sk-estimator-id-2\" class=\"sk-toggleable__label sk-toggleable__label-arrow\">RandomForestClassifier</label><div class=\"sk-toggleable__content\"><pre>RandomForestClassifier(max_depth=19, max_features=None, min_samples_leaf=3,\n",
       "                       min_samples_split=12, n_estimators=142)</pre></div></div></div></div></div>"
      ],
      "text/plain": [
       "RandomForestClassifier(max_depth=19, max_features=None, min_samples_leaf=3,\n",
       "                       min_samples_split=12, n_estimators=142)"
      ]
     },
     "execution_count": 48,
     "metadata": {},
     "output_type": "execute_result"
    }
   ],
   "source": [
    "final_model.fit(x_Train_Final, y_Train)"
   ]
  },
  {
   "cell_type": "code",
   "execution_count": 49,
   "metadata": {},
   "outputs": [],
   "source": [
    "y_pred = final_model.predict(x_Test_Final)"
   ]
  },
  {
   "cell_type": "code",
   "execution_count": 50,
   "metadata": {},
   "outputs": [
    {
     "name": "stdout",
     "output_type": "stream",
     "text": [
      "Testing_Accuracy:- 0.8125\n"
     ]
    }
   ],
   "source": [
    "Test_Accu = accuracy_score(y_Test,y_pred)\n",
    "print('Testing_Accuracy:-',Test_Accu) "
   ]
  },
  {
   "cell_type": "code",
   "execution_count": 51,
   "metadata": {},
   "outputs": [
    {
     "name": "stdout",
     "output_type": "stream",
     "text": [
      "              precision    recall  f1-score   support\n",
      "\n",
      "           0       0.75      1.00      0.86         3\n",
      "           1       1.00      1.00      1.00         3\n",
      "           2       0.67      0.50      0.57         4\n",
      "           3       0.83      0.83      0.83         6\n",
      "\n",
      "    accuracy                           0.81        16\n",
      "   macro avg       0.81      0.83      0.82        16\n",
      "weighted avg       0.81      0.81      0.80        16\n",
      "\n"
     ]
    }
   ],
   "source": [
    "print(classification_report(y_Test,y_pred))  "
   ]
  },
  {
   "cell_type": "markdown",
   "metadata": {},
   "source": [
    "## Prediction "
   ]
  },
  {
   "cell_type": "code",
   "execution_count": 42,
   "metadata": {},
   "outputs": [
    {
     "data": {
      "text/plain": [
       "array([3, 1, 2, 1, 3, 2, 3, 3, 0, 1, 3, 3, 0, 3, 1, 1], dtype=int64)"
      ]
     },
     "execution_count": 42,
     "metadata": {},
     "output_type": "execute_result"
    }
   ],
   "source": [
    "test_pred"
   ]
  },
  {
   "cell_type": "code",
   "execution_count": 43,
   "metadata": {},
   "outputs": [
    {
     "name": "stdout",
     "output_type": "stream",
     "text": [
      "SQL Developer\n"
     ]
    }
   ],
   "source": [
    "if test_pred[4] == 0:\n",
    "    print('React Developer')\n",
    "elif test_pred[4] == 1:\n",
    "    print('workday')\n",
    "elif test_pred[4] == 2:\n",
    "    print('Peoplesoft')\n",
    "else:\n",
    "    print('SQL Developer')"
   ]
  },
  {
   "cell_type": "markdown",
   "metadata": {},
   "source": [
    "## Pickle Files"
   ]
  },
  {
   "cell_type": "code",
   "execution_count": 44,
   "metadata": {},
   "outputs": [],
   "source": [
    "import pickle\n",
    "import joblib"
   ]
  },
  {
   "cell_type": "code",
   "execution_count": 45,
   "metadata": {},
   "outputs": [
    {
     "data": {
      "text/plain": [
       "['model.pkl']"
      ]
     },
     "execution_count": 45,
     "metadata": {},
     "output_type": "execute_result"
    }
   ],
   "source": [
    "joblib.dump(model, 'model.pkl')"
   ]
  },
  {
   "cell_type": "code",
   "execution_count": 46,
   "metadata": {},
   "outputs": [
    {
     "data": {
      "text/plain": [
       "['rndm.pkl']"
      ]
     },
     "execution_count": 46,
     "metadata": {},
     "output_type": "execute_result"
    }
   ],
   "source": [
    "joblib.dump(rdm_clf,'rndm.pkl')"
   ]
  },
  {
   "cell_type": "code",
   "execution_count": null,
   "metadata": {},
   "outputs": [],
   "source": []
  }
 ],
 "metadata": {
  "kernelspec": {
   "display_name": "even",
   "language": "python",
   "name": "python3"
  },
  "language_info": {
   "codemirror_mode": {
    "name": "ipython",
    "version": 3
   },
   "file_extension": ".py",
   "mimetype": "text/x-python",
   "name": "python",
   "nbconvert_exporter": "python",
   "pygments_lexer": "ipython3",
   "version": "3.12.0"
  }
 },
 "nbformat": 4,
 "nbformat_minor": 2
}
